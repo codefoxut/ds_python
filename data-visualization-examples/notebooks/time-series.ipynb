{
 "cells": [
  {
   "cell_type": "code",
   "execution_count": 5,
   "id": "78f7c58c",
   "metadata": {},
   "outputs": [],
   "source": [
    "from bokeh.plotting import figure, output_file, show\n",
    "import pandas\n",
    "\n",
    "df = pandas.read_csv(\"csv_files/adbe.csv\", parse_dates=[\"Date\"])\n",
    "\n",
    "p = figure(width=500, height=250, x_axis_type=\"datetime\")\n",
    "\n",
    "p.line(df[\"Date\"], df[\"Close\"], color=\"Orange\", alpha=0.5)\n",
    "\n",
    "output_file(\"htmls/Timeseries.html\")\n",
    "\n",
    "show(p)"
   ]
  },
  {
   "cell_type": "code",
   "execution_count": null,
   "id": "83d68fa7",
   "metadata": {},
   "outputs": [],
   "source": []
  }
 ],
 "metadata": {
  "kernelspec": {
   "display_name": "Python 3",
   "language": "python",
   "name": "python3"
  },
  "language_info": {
   "codemirror_mode": {
    "name": "ipython",
    "version": 3
   },
   "file_extension": ".py",
   "mimetype": "text/x-python",
   "name": "python",
   "nbconvert_exporter": "python",
   "pygments_lexer": "ipython3",
   "version": "3.9.1"
  }
 },
 "nbformat": 4,
 "nbformat_minor": 5
}
